{
 "cells": [
  {
   "cell_type": "code",
   "execution_count": 5,
   "id": "fae4ae45",
   "metadata": {},
   "outputs": [],
   "source": [
    "import glob\n",
    "\n",
    "import pandas as pd\n",
    "import numpy as np\n",
    "import matplotlib.pyplot as plt\n",
    "import seaborn as sns\n",
    "from sklearn.linear_model import LinearRegression\n",
    "from sklearn.model_selection import train_test_split"
   ]
  },
  {
   "cell_type": "code",
   "execution_count": 7,
   "id": "fc1e0ceb",
   "metadata": {},
   "outputs": [],
   "source": [
    "train_df = pd.read_csv('Datafiles/BlogFeedback/blogData_train.csv')\n",
    "test_dfs = []\n",
    "for filename in glob.glob('Datafiles/BlogFeedback/blogData_test*.csv'):\n",
    "    test_dfs.append(pd.read_csv(filename))"
   ]
  },
  {
   "cell_type": "code",
   "execution_count": 8,
   "id": "243ed5f7",
   "metadata": {},
   "outputs": [
    {
     "name": "stdout",
     "output_type": "stream",
     "text": [
      "   40.30467  53.845657  0.0  401.0  15.0  15.52416  32.44188  0.0.1  377.0  \\\n",
      "0  40.30467  53.845657  0.0  401.0  15.0  15.52416  32.44188    0.0  377.0   \n",
      "1  40.30467  53.845657  0.0  401.0  15.0  15.52416  32.44188    0.0  377.0   \n",
      "2  40.30467  53.845657  0.0  401.0  15.0  15.52416  32.44188    0.0  377.0   \n",
      "3  40.30467  53.845657  0.0  401.0  15.0  15.52416  32.44188    0.0  377.0   \n",
      "4  40.30467  53.845657  0.0  401.0  15.0  15.52416  32.44188    0.0  377.0   \n",
      "\n",
      "   3.0  ...  0.0.229  1.0.1  0.0.230  0.0.231  0.0.232  0.0.233  0.0.234  \\\n",
      "0  3.0  ...      1.0    0.0      0.0      0.0      0.0      0.0      0.0   \n",
      "1  3.0  ...      1.0    0.0      0.0      0.0      0.0      0.0      0.0   \n",
      "2  3.0  ...      0.0    1.0      0.0      0.0      0.0      0.0      0.0   \n",
      "3  3.0  ...      0.0    1.0      0.0      0.0      0.0      0.0      0.0   \n",
      "4  3.0  ...      1.0    0.0      0.0      0.0      0.0      0.0      0.0   \n",
      "\n",
      "   0.0.235  0.0.236  1.0.2  \n",
      "0      0.0      0.0    0.0  \n",
      "1      0.0      0.0    0.0  \n",
      "2      0.0      0.0    1.0  \n",
      "3      0.0      0.0   27.0  \n",
      "4      0.0      0.0    0.0  \n",
      "\n",
      "[5 rows x 281 columns]\n",
      "          0.0       0.0.1  0.0.2   0.0.3  0.0.4       0.0.5       0.0.6  \\\n",
      "0    0.000000    0.000000    0.0     0.0    0.0    0.000000    0.000000   \n",
      "1    0.056075    0.330159    0.0     2.0    0.0    0.018692    0.192442   \n",
      "2    0.000000    0.000000    0.0     0.0    0.0    0.000000    0.000000   \n",
      "3   47.776787   93.737470    1.0   598.0    7.5   17.857143   56.888218   \n",
      "4  546.629900  355.350340    0.0  2044.0  509.0  231.590620  227.521200   \n",
      "\n",
      "   0.0.7   0.0.8  0.0.9  ...  0.0.256  0.0.257  0.0.258  1.0.5  0.0.259  \\\n",
      "0    0.0     0.0    0.0  ...      0.0      0.0      0.0    0.0      1.0   \n",
      "1    0.0     2.0    0.0  ...      0.0      0.0      0.0    0.0      0.0   \n",
      "2    0.0     0.0    0.0  ...      0.0      0.0      0.0    1.0      0.0   \n",
      "3    0.0   594.0    1.0  ...      0.0      0.0      0.0    0.0      0.0   \n",
      "4    0.0  1370.0  186.0  ...      0.0      0.0      0.0    1.0      0.0   \n",
      "\n",
      "   0.0.260  0.0.261  0.0.262  0.0.263  0.0.264  \n",
      "0      0.0      0.0      0.0      0.0      0.0  \n",
      "1      0.0      0.0      0.0      0.0      0.0  \n",
      "2      0.0      0.0      0.0      0.0      0.0  \n",
      "3      0.0      0.0      0.0      0.0      0.0  \n",
      "4      0.0      0.0      0.0      0.0      5.0  \n",
      "\n",
      "[5 rows x 281 columns]\n"
     ]
    }
   ],
   "source": [
    "print(train_df.head(5))\n",
    "print(test_dfs[0].head(5))"
   ]
  },
  {
   "cell_type": "code",
   "execution_count": null,
   "id": "509271c0",
   "metadata": {},
   "outputs": [],
   "source": [
    "# Each datapoint has 281 attributes. There are no headers. I do not know what they are. Will maybe return to this one..."
   ]
  }
 ],
 "metadata": {
  "kernelspec": {
   "display_name": "Python 3 (ipykernel)",
   "language": "python",
   "name": "python3"
  },
  "language_info": {
   "codemirror_mode": {
    "name": "ipython",
    "version": 3
   },
   "file_extension": ".py",
   "mimetype": "text/x-python",
   "name": "python",
   "nbconvert_exporter": "python",
   "pygments_lexer": "ipython3",
   "version": "3.9.12"
  }
 },
 "nbformat": 4,
 "nbformat_minor": 5
}
